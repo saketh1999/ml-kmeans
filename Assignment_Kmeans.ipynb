{
  "nbformat": 4,
  "nbformat_minor": 0,
  "metadata": {
    "anaconda-cloud": {},
    "kernelspec": {
      "display_name": "Python 3",
      "language": "python",
      "name": "python3"
    },
    "language_info": {
      "codemirror_mode": {
        "name": "ipython",
        "version": 3
      },
      "file_extension": ".py",
      "mimetype": "text/x-python",
      "name": "python",
      "nbconvert_exporter": "python",
      "pygments_lexer": "ipython3",
      "version": "3.5.5"
    },
    "colab": {
      "provenance": [],
      "include_colab_link": true
    }
  },
  "cells": [
    {
      "cell_type": "markdown",
      "metadata": {
        "id": "view-in-github",
        "colab_type": "text"
      },
      "source": [
        "<a href=\"https://colab.research.google.com/github/saketh1999/ml-kmeans/blob/main/Assignment_Kmeans.ipynb\" target=\"_parent\"><img src=\"https://colab.research.google.com/assets/colab-badge.svg\" alt=\"Open In Colab\"/></a>"
      ]
    },
    {
      "cell_type": "markdown",
      "metadata": {
        "id": "EGNl9u_WAdqx"
      },
      "source": [
        "# K-means Clustering Algorithm\n",
        "\n",
        "You will implement the K-means unsupervised learning algorithm.\n",
        "\n",
        "Use the simplified Iris dataset provided to test your code.\n",
        "\n",
        "Column 1: sepal length.\n",
        "Column 2: sepal width\n",
        "\n",
        "50 samples for setosa, 50 samples for versicolor\n",
        "\n",
        "   \n"
      ]
    },
    {
      "cell_type": "code",
      "metadata": {
        "colab": {
          "base_uri": "https://localhost:8080/",
          "height": 450
        },
        "id": "NkmBxlIAAdq4",
        "outputId": "a6c46de0-89ff-4a68-dfe7-9994b7271edd"
      },
      "source": [
        "# Load dataset and plot it\n",
        "\n",
        "%matplotlib inline\n",
        "import numpy as np\n",
        "import pandas as pd\n",
        "from copy import deepcopy\n",
        "from matplotlib import pyplot as plt\n",
        "\n",
        "df = pd.read_csv('simple_iris_dataset.csv')\n",
        "\n",
        "df1 = df['sepal_length'].values\n",
        "df2 = df['sepal_width'].values\n",
        "X = np.array(list(zip(df1, df2)))   # 100 x 2\n",
        "plt.scatter(df1, df2, c='black', s=7)\n",
        "print(X.shape)"
      ],
      "execution_count": 1,
      "outputs": [
        {
          "output_type": "stream",
          "name": "stdout",
          "text": [
            "(100, 2)\n"
          ]
        },
        {
          "output_type": "display_data",
          "data": {
            "text/plain": [
              "<Figure size 640x480 with 1 Axes>"
            ],
            "image/png": "[encoded data removed]"
          },
          "metadata": {}
        }
      ]
    },
    {
      "cell_type": "code",
      "source": [
        "\n",
        "def plot_clusters(x, clusters, centroids):\n",
        "    colors = ['r', 'g', 'b', 'y', 'c', 'm']\n",
        "    k,l = np.shape(centroids)\n",
        "\n",
        "    fig, ax = plt.subplots()\n",
        "    for i in range(k):\n",
        "        print(colors[i])\n",
        "        points = np.array([x[j] for j in range(len(x)) if clusters[j] == i])\n",
        "        plt.scatter(points[:, 0], points[:, 1], s=7, c=colors[i])\n",
        "\n",
        "    plt.scatter(centroids[:,0], centroids[:,1], marker='*', s=150, c='y')"
      ],
      "metadata": {
        "id": "czxC1JZ1N7Dh"
      },
      "execution_count": 2,
      "outputs": []
    },
    {
      "cell_type": "code",
      "source": [
        "def find_clusters(X):\n",
        "  k=2\n",
        "  N = len(X)\n",
        "  ctr0 = X[(np.random.randint(0,N)),:]\n",
        "  ctr1 = X[(np.random.randint(0,N)),:]\n",
        "\n",
        "  # Initialize the centroids\n",
        "  centroids = np.array(list(zip(ctr0, ctr1)), dtype=np.float32)  # 2x2\n",
        "\n",
        "  # Cluster indices\n",
        "  clusters = np.zeros(len(X))\n",
        "\n",
        "  max_itr = 100\n",
        "  for itr in range(0,max_itr):\n",
        "    for i in range(N):\n",
        "        t1 = np.linalg.norm(ctr0 - X[i])\n",
        "        t2 = np.linalg.norm(ctr1 - X[i])\n",
        "        if t1 < t2:\n",
        "          clusters[i] = 0\n",
        "        else:\n",
        "          clusters[i] = 1\n",
        "    temp0, temp1 = X[np.where(clusters==0)], X[np.where(clusters==1)]\n",
        "    ctr0, ctr1 = np.mean(temp0, axis=0), np.mean(temp1, axis=0)\n",
        "    centroids = np.array([ctr0, ctr1])\n",
        "  print('Algorithm converges after {} iterations'. format(itr))\n",
        "  return clusters, centroids"
      ],
      "metadata": {
        "id": "qa_yfL-C19qr"
      },
      "execution_count": 3,
      "outputs": []
    },
    {
      "cell_type": "code",
      "source": [
        "clusters, centroids = find_clusters(X)\n",
        "plot_clusters(X, clusters, centroids)"
      ],
      "metadata": {
        "colab": {
          "base_uri": "https://localhost:8080/",
          "height": 485
        },
        "id": "EgcZMXqC1_Wd",
        "outputId": "611953d1-a0c9-438b-da0e-740305a22ea0"
      },
      "execution_count": 4,
      "outputs": [
        {
          "output_type": "stream",
          "name": "stdout",
          "text": [
            "Algorithm converges after 99 iterations\n",
            "r\n",
            "g\n"
          ]
        },
        {
          "output_type": "display_data",
          "data": {
            "text/plain": [
              "<Figure size 640x480 with 1 Axes>"
            ],
            "image/png": "[encoded data removed]"
          },
          "metadata": {}
        }
      ]
    }
  ]
}